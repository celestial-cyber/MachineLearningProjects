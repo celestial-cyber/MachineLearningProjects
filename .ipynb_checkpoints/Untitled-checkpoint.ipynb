{
 "cells": [
  {
   "cell_type": "code",
   "execution_count": null,
   "id": "d0c34ba8-4291-4c2a-b44a-f28290ac6baf",
   "metadata": {},
   "outputs": [],
   "source": [
    "from sklearn.datasets import load_breast_cancer\n",
    "import matplotlib.pyplot as plt \n",
    "from sklearn.inspection import DecisionBoundaryDisplay\n",
    "from sklearn.svm import SVC\n",
    "\n",
    "#load the datasets\n",
    "cancer=load_breast_cancer()\n",
    "X=cancer.data[:,:2]\n",
    "Y= cancer.target\n",
    "\n",
    "#build the model\n",
    "svm=SVC(kernel=\"rbf\", gamma=0.5, C=1.0)\n",
    "#trained the model\n",
    "svm.fit(X,Y)\n",
    "\n",
    "#plot decision boundary \n",
    "DecisionBundaryDisplay.from_estimator(\n",
    "    svm,\n",
    "    X,\n",
    "    response_method=\"predict\",\n",
    "    cmap=plt.cm.Spectral\n",
    "    alpha=0.8,\n",
    "    xlabel=cancer.feature_names[0],\n",
    "    ylabel=cancer.feature_names[1],\n",
    "         \n",
    ")\n",
    "\n",
    "#scatter plot \n",
    "plt.scanner(X[:,0],X[:,1],\n",
    "            c=y,\n",
    "           s=20, edgecolors=\"k\")\n",
    "plt.show()\n"
   ]
  }
 ],
 "metadata": {
  "kernelspec": {
   "display_name": "Python 3 (ipykernel)",
   "language": "python",
   "name": "python3"
  },
  "language_info": {
   "codemirror_mode": {
    "name": "ipython",
    "version": 3
   },
   "file_extension": ".py",
   "mimetype": "text/x-python",
   "name": "python",
   "nbconvert_exporter": "python",
   "pygments_lexer": "ipython3",
   "version": "3.11.3"
  }
 },
 "nbformat": 4,
 "nbformat_minor": 5
}
