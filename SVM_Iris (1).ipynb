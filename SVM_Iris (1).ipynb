{
 "cells": [
  {
   "cell_type": "code",
   "execution_count": 1,
   "id": "ee9daad4-3b50-44c1-ab33-5e82c5014b47",
   "metadata": {},
   "outputs": [
    {
     "name": "stdout",
     "output_type": "stream",
     "text": [
      "Correct Predictions:\n",
      "Index 0: True = versicolor, Predicted = versicolor\n",
      "Index 1: True = setosa, Predicted = setosa\n",
      "Index 2: True = virginica, Predicted = virginica\n",
      "Index 3: True = versicolor, Predicted = versicolor\n",
      "Index 4: True = versicolor, Predicted = versicolor\n",
      "Index 5: True = setosa, Predicted = setosa\n",
      "Index 6: True = versicolor, Predicted = versicolor\n",
      "Index 7: True = virginica, Predicted = virginica\n",
      "Index 8: True = versicolor, Predicted = versicolor\n",
      "Index 9: True = versicolor, Predicted = versicolor\n",
      "Index 10: True = virginica, Predicted = virginica\n",
      "Index 11: True = setosa, Predicted = setosa\n",
      "Index 12: True = setosa, Predicted = setosa\n",
      "Index 13: True = setosa, Predicted = setosa\n",
      "Index 14: True = setosa, Predicted = setosa\n",
      "Index 15: True = versicolor, Predicted = versicolor\n",
      "Index 16: True = virginica, Predicted = virginica\n",
      "Index 17: True = versicolor, Predicted = versicolor\n",
      "Index 18: True = versicolor, Predicted = versicolor\n",
      "Index 19: True = virginica, Predicted = virginica\n",
      "Index 20: True = setosa, Predicted = setosa\n",
      "Index 21: True = virginica, Predicted = virginica\n",
      "Index 22: True = setosa, Predicted = setosa\n",
      "Index 23: True = virginica, Predicted = virginica\n",
      "Index 24: True = virginica, Predicted = virginica\n",
      "Index 25: True = virginica, Predicted = virginica\n",
      "Index 26: True = virginica, Predicted = virginica\n",
      "Index 27: True = virginica, Predicted = virginica\n",
      "Index 28: True = setosa, Predicted = setosa\n",
      "Index 29: True = setosa, Predicted = setosa\n",
      "\n",
      "Wrong Predictions:\n"
     ]
    }
   ],
   "source": [
    "from sklearn.datasets import load_iris\n",
    "from sklearn.model_selection import train_test_split\n",
    "from sklearn.svm import SVC\n",
    "import pandas as pd\n",
    "\n",
    "# Load the iris dataset\n",
    "iris = load_iris()\n",
    "X = iris.data\n",
    "y = iris.target\n",
    "target_names = iris.target_names\n",
    "\n",
    "# Split into training and testing sets\n",
    "X_train, X_test, y_train, y_test = train_test_split(X, y, test_size=0.2, random_state=42)\n",
    "\n",
    "# Initialize Support Vector Classifier (SVC)\n",
    "svm = SVC(kernel='linear')  # You can also try 'rbf', 'poly', etc.\n",
    "\n",
    "# Train the model\n",
    "svm.fit(X_train, y_train)\n",
    "\n",
    "# Make predictions\n",
    "y_pred = svm.predict(X_test)\n",
    "\n",
    "# Print correct and incorrect predictions\n",
    "print(\"Correct Predictions:\")\n",
    "for i in range(len(y_test)):\n",
    "    if y_test[i] == y_pred[i]:\n",
    "        print(f\"Index {i}: True = {target_names[y_test[i]]}, Predicted = {target_names[y_pred[i]]}\")\n",
    "\n",
    "print(\"\\nWrong Predictions:\")\n",
    "for i in range(len(y_test)):\n",
    "    if y_test[i] != y_pred[i]:\n",
    "        print(f\"Index {i}: True = {target_names[y_test[i]]}, Predicted = {target_names[y_pred[i]]}\")\n"
   ]
  }
 ],
 "metadata": {
  "kernelspec": {
   "display_name": "Python 3 (ipykernel)",
   "language": "python",
   "name": "python3"
  },
  "language_info": {
   "codemirror_mode": {
    "name": "ipython",
    "version": 3
   },
   "file_extension": ".py",
   "mimetype": "text/x-python",
   "name": "python",
   "nbconvert_exporter": "python",
   "pygments_lexer": "ipython3",
   "version": "3.12.4"
  }
 },
 "nbformat": 4,
 "nbformat_minor": 5
}
